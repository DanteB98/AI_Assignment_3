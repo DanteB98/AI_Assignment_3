{
 "cells": [
  {
   "cell_type": "markdown",
   "metadata": {
    "id": "gfu0ScsSrONp"
   },
   "source": [
    "<a href=\"https://colab.research.google.com/github/profmcnich/example_notebook/blob/main/a3_sample_notebook.ipynb\" target=\"_parent\"><img src=\"https://colab.research.google.com/assets/colab-badge.svg\" alt=\"Open In Colab\"/></a>\n"
   ]
  },
  {
   "cell_type": "code",
   "execution_count": 170,
   "metadata": {
    "id": "zwNRA2pGrONq"
   },
   "outputs": [],
   "source": [
    "# Imports section\n",
    "import pandas as pd\n",
    "import numpy as np\n",
    "from sklearn.model_selection import train_test_split\n",
    "from sklearn.linear_model import LinearRegression\n",
    "from sklearn.model_selection import cross_val_score\n",
    "from sklearn import svm\n",
    "from sklearn import datasets\n",
    "from sklearn.preprocessing import PolynomialFeatures\n",
    "from sklearn.pipeline import Pipeline"
   ]
  },
  {
   "cell_type": "markdown",
   "metadata": {
    "id": "ic6JS5VorONr"
   },
   "source": [
    "## Part 1. Loading the dataset"
   ]
  },
  {
   "cell_type": "code",
   "execution_count": 171,
   "metadata": {
    "id": "g3VLD-yMrONr"
   },
   "outputs": [
    {
     "data": {
      "text/html": [
       "<div>\n",
       "<style scoped>\n",
       "    .dataframe tbody tr th:only-of-type {\n",
       "        vertical-align: middle;\n",
       "    }\n",
       "\n",
       "    .dataframe tbody tr th {\n",
       "        vertical-align: top;\n",
       "    }\n",
       "\n",
       "    .dataframe thead th {\n",
       "        text-align: right;\n",
       "    }\n",
       "</style>\n",
       "<table border=\"1\" class=\"dataframe\">\n",
       "  <thead>\n",
       "    <tr style=\"text-align: right;\">\n",
       "      <th></th>\n",
       "      <th>Temperature °C</th>\n",
       "      <th>Mols KCL</th>\n",
       "      <th>Size nm^3</th>\n",
       "    </tr>\n",
       "  </thead>\n",
       "  <tbody>\n",
       "    <tr>\n",
       "      <th>0</th>\n",
       "      <td>469</td>\n",
       "      <td>647</td>\n",
       "      <td>6.244743e+05</td>\n",
       "    </tr>\n",
       "    <tr>\n",
       "      <th>1</th>\n",
       "      <td>403</td>\n",
       "      <td>694</td>\n",
       "      <td>5.779610e+05</td>\n",
       "    </tr>\n",
       "    <tr>\n",
       "      <th>2</th>\n",
       "      <td>302</td>\n",
       "      <td>975</td>\n",
       "      <td>6.196847e+05</td>\n",
       "    </tr>\n",
       "    <tr>\n",
       "      <th>3</th>\n",
       "      <td>779</td>\n",
       "      <td>916</td>\n",
       "      <td>1.460449e+06</td>\n",
       "    </tr>\n",
       "    <tr>\n",
       "      <th>4</th>\n",
       "      <td>901</td>\n",
       "      <td>18</td>\n",
       "      <td>4.325726e+04</td>\n",
       "    </tr>\n",
       "    <tr>\n",
       "      <th>5</th>\n",
       "      <td>545</td>\n",
       "      <td>637</td>\n",
       "      <td>7.124634e+05</td>\n",
       "    </tr>\n",
       "    <tr>\n",
       "      <th>6</th>\n",
       "      <td>660</td>\n",
       "      <td>519</td>\n",
       "      <td>7.006960e+05</td>\n",
       "    </tr>\n",
       "    <tr>\n",
       "      <th>7</th>\n",
       "      <td>143</td>\n",
       "      <td>869</td>\n",
       "      <td>2.718260e+05</td>\n",
       "    </tr>\n",
       "    <tr>\n",
       "      <th>8</th>\n",
       "      <td>89</td>\n",
       "      <td>461</td>\n",
       "      <td>8.919803e+04</td>\n",
       "    </tr>\n",
       "    <tr>\n",
       "      <th>9</th>\n",
       "      <td>294</td>\n",
       "      <td>776</td>\n",
       "      <td>4.770210e+05</td>\n",
       "    </tr>\n",
       "    <tr>\n",
       "      <th>10</th>\n",
       "      <td>991</td>\n",
       "      <td>117</td>\n",
       "      <td>2.441771e+05</td>\n",
       "    </tr>\n",
       "    <tr>\n",
       "      <th>11</th>\n",
       "      <td>307</td>\n",
       "      <td>781</td>\n",
       "      <td>5.006455e+05</td>\n",
       "    </tr>\n",
       "    <tr>\n",
       "      <th>12</th>\n",
       "      <td>206</td>\n",
       "      <td>70</td>\n",
       "      <td>3.145200e+04</td>\n",
       "    </tr>\n",
       "    <tr>\n",
       "      <th>13</th>\n",
       "      <td>437</td>\n",
       "      <td>599</td>\n",
       "      <td>5.390215e+05</td>\n",
       "    </tr>\n",
       "    <tr>\n",
       "      <th>14</th>\n",
       "      <td>566</td>\n",
       "      <td>75</td>\n",
       "      <td>9.185271e+04</td>\n",
       "    </tr>\n",
       "  </tbody>\n",
       "</table>\n",
       "</div>"
      ],
      "text/plain": [
       "    Temperature °C  Mols KCL     Size nm^3\n",
       "0              469       647  6.244743e+05\n",
       "1              403       694  5.779610e+05\n",
       "2              302       975  6.196847e+05\n",
       "3              779       916  1.460449e+06\n",
       "4              901        18  4.325726e+04\n",
       "5              545       637  7.124634e+05\n",
       "6              660       519  7.006960e+05\n",
       "7              143       869  2.718260e+05\n",
       "8               89       461  8.919803e+04\n",
       "9              294       776  4.770210e+05\n",
       "10             991       117  2.441771e+05\n",
       "11             307       781  5.006455e+05\n",
       "12             206        70  3.145200e+04\n",
       "13             437       599  5.390215e+05\n",
       "14             566        75  9.185271e+04"
      ]
     },
     "execution_count": 171,
     "metadata": {},
     "output_type": "execute_result"
    }
   ],
   "source": [
    "# Using pandas load the dataset (load remotely, not locally)\n",
    "# Output the first 15 rows of the data\n",
    "slime_data = pd.read_csv('https://raw.githubusercontent.com/profmcnich/example_notebook/main/science_data_large.csv')\n",
    "slime_data.head(15)"
   ]
  },
  {
   "cell_type": "code",
   "execution_count": 172,
   "metadata": {},
   "outputs": [
    {
     "name": "stdout",
     "output_type": "stream",
     "text": [
      "<class 'pandas.core.frame.DataFrame'>\n",
      "RangeIndex: 1000 entries, 0 to 999\n",
      "Data columns (total 3 columns):\n",
      " #   Column          Non-Null Count  Dtype  \n",
      "---  ------          --------------  -----  \n",
      " 0   Temperature °C  1000 non-null   int64  \n",
      " 1   Mols KCL        1000 non-null   int64  \n",
      " 2   Size nm^3       1000 non-null   float64\n",
      "dtypes: float64(1), int64(2)\n",
      "memory usage: 23.6 KB\n"
     ]
    }
   ],
   "source": [
    "# Display a summary of the table information (number of datapoints, etc.)\n",
    "slime_data.info()"
   ]
  },
  {
   "cell_type": "markdown",
   "metadata": {
    "id": "wVdrxYPPrONr"
   },
   "source": [
    "## Part 2. Splitting the dataset"
   ]
  },
  {
   "cell_type": "code",
   "execution_count": 173,
   "metadata": {
    "id": "rLyIjsw4rONr"
   },
   "outputs": [
    {
     "data": {
      "text/plain": [
       "(     Temperature °C  Mols KCL\n",
       " 785              18        61\n",
       " 873             826       386\n",
       " 65              518       772\n",
       " 902             752       701\n",
       " 317             348       288\n",
       " ..              ...       ...\n",
       " 835               6        13\n",
       " 192             430       560\n",
       " 629             153       801\n",
       " 559             726       744\n",
       " 684             493       979\n",
       " \n",
       " [900 rows x 2 columns],\n",
       "      Temperature °C  Mols KCL\n",
       " 993             311       265\n",
       " 859             951       145\n",
       " 298             985       786\n",
       " 553              66       317\n",
       " 672              59       277\n",
       " ..              ...       ...\n",
       " 485             994       881\n",
       " 568             249       927\n",
       " 108             293       466\n",
       " 367             217       682\n",
       " 644             399       823\n",
       " \n",
       " [100 rows x 2 columns],\n",
       " 785    2.518314e+03\n",
       " 873    6.518410e+05\n",
       " 65     8.230361e+05\n",
       " 902    1.077368e+06\n",
       " 317    2.069938e+05\n",
       "            ...     \n",
       " 835    2.328286e+02\n",
       " 192    4.957200e+05\n",
       " 629    2.652735e+05\n",
       " 559    1.104815e+06\n",
       " 684    9.985940e+05\n",
       " Name: Size nm^3, Length: 900, dtype: float64,\n",
       " 993    1.705684e+05\n",
       " 859    2.878027e+05\n",
       " 298    1.577891e+06\n",
       " 553    4.550711e+04\n",
       " 672    3.558626e+04\n",
       "            ...     \n",
       " 485    1.785532e+06\n",
       " 568    4.891863e+05\n",
       " 108    2.827965e+05\n",
       " 367    3.118813e+05\n",
       " 644    6.808943e+05\n",
       " Name: Size nm^3, Length: 100, dtype: float64)"
      ]
     },
     "execution_count": 173,
     "metadata": {},
     "output_type": "execute_result"
    }
   ],
   "source": [
    "# Take the pandas dataset and split it into our features (X) and label (y)\n",
    "features = slime_data[[\"Temperature °C\",\"Mols KCL\"]]\n",
    "label = slime_data[\"Size nm^3\"]\n",
    "# Use sklearn to split the features and labels into a training/test set. (90% train, 10% test)\n",
    "x_train, x_test, y_train, y_test = train_test_split(features, label, test_size=0.1, train_size=0.9, random_state=0)\n",
    "#Displays data\n",
    "x_train, x_test, y_train, y_test\n"
   ]
  },
  {
   "cell_type": "markdown",
   "metadata": {
    "id": "nL3yUNtJrONr"
   },
   "source": [
    "## Part 3. Perform a Linear Regression"
   ]
  },
  {
   "cell_type": "code",
   "execution_count": 174,
   "metadata": {
    "id": "SdNYRvhxrONr"
   },
   "outputs": [
    {
     "data": {
      "text/plain": [
       "LinearRegression()"
      ]
     },
     "execution_count": 174,
     "metadata": {},
     "output_type": "execute_result"
    }
   ],
   "source": [
    "# Use sklearn to train a model on the training set\n",
    "model = LinearRegression()\n",
    "model.fit(x_train, y_train)"
   ]
  },
  {
   "cell_type": "code",
   "execution_count": 175,
   "metadata": {},
   "outputs": [
    {
     "data": {
      "text/plain": [
       "array([ 134891.57109752,  566848.1770532 , 1241137.60975794,\n",
       "        -24367.1696409 ,  -70657.3340248 ,  384956.44708746,\n",
       "        467392.47066236,  960873.69862144,    8407.39619923,\n",
       "         51611.35989487,  838231.36519831, 1232720.46674085,\n",
       "        901563.3931183 , -118835.20674597,  188176.20244545,\n",
       "       1158467.7057509 ,  665263.26735435,  560560.92590561,\n",
       "        163940.53886357,  469055.93661764, 1419180.64745835,\n",
       "        -84401.29716064,  555956.53417346, 1401489.68980634,\n",
       "        450621.8221688 , 1161403.05700777,   45784.96014151,\n",
       "        408948.47482721,  421868.97874553,  645969.69402768,\n",
       "        467893.44392697,  208517.41869172, 1438187.73449241,\n",
       "        708330.20055877, 1400047.62029314,  711132.70221441,\n",
       "        942380.06884206, 1116186.8384737 , 1257396.19462681,\n",
       "        189369.12027644,   71374.08771584,  870102.22808014,\n",
       "         94087.37936383,  407174.28131093,  271473.01984826,\n",
       "        388791.32041263,  237873.60116061,  790013.37060675,\n",
       "        112125.67358907,  512139.47602221,  905252.99153208,\n",
       "       -163237.6627926 , 1056768.59266956,  757865.71816238,\n",
       "        422587.22624213,  838109.54727724, 1168808.55676556,\n",
       "        420476.72783278,  562454.20876288, 1196155.27165602,\n",
       "       1141958.63424972, -205320.64929795, -193313.545068  ,\n",
       "        882065.02954971, -233968.28100031, 1111316.74753909,\n",
       "        125465.51340122,  862352.1203292 ,  495379.97656865,\n",
       "       -260706.08232516,  463075.95885281,  636857.7605043 ,\n",
       "        958770.10968217,  514388.39855279,  139911.11783352,\n",
       "        874190.37529761,  634698.83712449, 1003517.17372194,\n",
       "        536824.90063825,  402129.82527471, 1095143.98093098,\n",
       "        752354.83621194,  438989.75107231,  175035.63703514,\n",
       "        339707.01615308,  -94234.2067607 ,  749168.99832276,\n",
       "        802198.96214839,  767320.80736899,   79090.92438656,\n",
       "         72706.82329805,  325614.2641341 ,  424739.29883178,\n",
       "         38884.61453832,  264437.03738384, 1344491.9443744 ,\n",
       "        747405.89516655,  321578.72277709,  473270.08264618,\n",
       "        772305.80675459])"
      ]
     },
     "execution_count": 175,
     "metadata": {},
     "output_type": "execute_result"
    }
   ],
   "source": [
    "#Create a sample datapoint and predict the output of that sample with the trained model\n",
    "\n",
    "#Note that here the predict variable is making predictions on what our \"Size nm^3\" will be\n",
    "predictions = model.predict(x_test)\n",
    "predictions"
   ]
  },
  {
   "cell_type": "code",
   "execution_count": 176,
   "metadata": {},
   "outputs": [
    {
     "data": {
      "text/plain": [
       "0.8761646752736478"
      ]
     },
     "execution_count": 176,
     "metadata": {},
     "output_type": "execute_result"
    }
   ],
   "source": [
    "#predict_output = model.predict(np.array([[0,1]]))\n",
    "model.score(x_test, y_test)"
   ]
  },
  {
   "cell_type": "markdown",
   "metadata": {},
   "source": [
    "-Report on the score for that model, in your own words (markdown, not code) explain what the score means\n",
    "This score basically means that our model is 87.6% accurate."
   ]
  },
  {
   "cell_type": "code",
   "execution_count": 177,
   "metadata": {},
   "outputs": [
    {
     "data": {
      "text/html": [
       "<div>\n",
       "<style scoped>\n",
       "    .dataframe tbody tr th:only-of-type {\n",
       "        vertical-align: middle;\n",
       "    }\n",
       "\n",
       "    .dataframe tbody tr th {\n",
       "        vertical-align: top;\n",
       "    }\n",
       "\n",
       "    .dataframe thead th {\n",
       "        text-align: right;\n",
       "    }\n",
       "</style>\n",
       "<table border=\"1\" class=\"dataframe\">\n",
       "  <thead>\n",
       "    <tr style=\"text-align: right;\">\n",
       "      <th></th>\n",
       "      <th>Coeff</th>\n",
       "    </tr>\n",
       "  </thead>\n",
       "  <tbody>\n",
       "    <tr>\n",
       "      <th>Temperature °C</th>\n",
       "      <td>863.581088</td>\n",
       "    </tr>\n",
       "    <tr>\n",
       "      <th>Mols KCL</th>\n",
       "      <td>1006.127419</td>\n",
       "    </tr>\n",
       "  </tbody>\n",
       "</table>\n",
       "</div>"
      ],
      "text/plain": [
       "                      Coeff\n",
       "Temperature °C   863.581088\n",
       "Mols KCL        1006.127419"
      ]
     },
     "execution_count": 177,
     "metadata": {},
     "output_type": "execute_result"
    }
   ],
   "source": [
    "coeffChart = pd.DataFrame(data=model.coef_, index=features.columns, columns = ['Coeff'])\n",
    "coeffChart"
   ]
  },
  {
   "cell_type": "markdown",
   "metadata": {},
   "source": [
    "-Extract the coefficients and intercept from the model and write an equation for your h(x) using laTeX\n",
    "<br>\n",
    "#Note: We are able to get the intercept by using \"print(model.intercept_)\" and \"print(model.coef_)\". Next, we want our equation in the form of y=mx+b where m is the slope of the line and b is the y-intercept\n",
    "<br>\n",
    "$y={864x_1 + 1006x_2 - 400306}$"
   ]
  },
  {
   "cell_type": "markdown",
   "metadata": {
    "id": "AQzIgicjrONs"
   },
   "source": [
    "## Part 4. Use Cross Validation"
   ]
  },
  {
   "cell_type": "code",
   "execution_count": 178,
   "metadata": {
    "id": "YrQJaOmFrONs"
   },
   "outputs": [
    {
     "data": {
      "text/plain": [
       "array([0.91532594, 0.88628606, 0.87313623, 0.75349855, 0.88772151])"
      ]
     },
     "execution_count": 178,
     "metadata": {},
     "output_type": "execute_result"
    }
   ],
   "source": [
    "# Use the cross_val_score function to repeat your experiment across many shuffles of the data\n",
    "scores = cross_val_score(model, x_test, y_test, cv=5)\n",
    "scores"
   ]
  },
  {
   "cell_type": "markdown",
   "metadata": {},
   "source": [
    "-Report on their finding and their significance\n",
    "Here our data is basically taking half it and training it and testing the other half and visversa. The result will give us these value scores which is a representation of an unbias (with some variance) feedback of how well our data is going to do ourside the given slime data"
   ]
  },
  {
   "cell_type": "markdown",
   "metadata": {
    "id": "O2bkNCNsrONs"
   },
   "source": [
    "## Part 5. Using Polynomial Regression"
   ]
  },
  {
   "cell_type": "code",
   "execution_count": 179,
   "metadata": {
    "id": "C4ASQUdyrONs"
   },
   "outputs": [
    {
     "name": "stdout",
     "output_type": "stream",
     "text": [
      "1.0\n",
      "[ 0.00000000e+00  1.20000000e+01 -1.10385822e-07 -1.20952137e-11\n",
      "  2.00000000e+00  2.85714287e-02]\n",
      "1.3903190847486258e-05\n"
     ]
    }
   ],
   "source": [
    "# Using the PolynomialFeatures library perform another regression on an augmented dataset of degree 2\n",
    "model2 = Pipeline([('poly', PolynomialFeatures(degree=2)), ('linear', LinearRegression(fit_intercept=False))])\n",
    "# Report on the metrics and output the resultant equation as you did in Part 3.\n",
    "new_x_train = poly.fit_transform(x_train)\n",
    "model2=LinearRegression()\n",
    "model2.fit(new_x_train, y_train)\n",
    "print(model2.score(new_x_train,y_train))\n",
    "print(model2.coef_)\n",
    "print(model2.intercept_)\n"
   ]
  },
  {
   "cell_type": "markdown",
   "metadata": {},
   "source": [
    "The score that we got after transforming our x training values was 1.0. What this means is that the accuracy has improved and it is better than before. "
   ]
  },
  {
   "cell_type": "markdown",
   "metadata": {},
   "source": [
    "$y={1.2x_2 - 1.1e^{-7}x_3 - 1.2e^{-11}x_4 + 2x_5 + 2.9e^{-2}x_6 - 1.4e^{-5}}$"
   ]
  },
  {
   "cell_type": "code",
   "execution_count": null,
   "metadata": {},
   "outputs": [],
   "source": []
  }
 ],
 "metadata": {
  "colab": {
   "name": "a3_sample_notebook.ipynb",
   "provenance": []
  },
  "kernelspec": {
   "display_name": "Python 3",
   "language": "python",
   "name": "python3"
  },
  "language_info": {
   "codemirror_mode": {
    "name": "ipython",
    "version": 3
   },
   "file_extension": ".py",
   "mimetype": "text/x-python",
   "name": "python",
   "nbconvert_exporter": "python",
   "pygments_lexer": "ipython3",
   "version": "3.9.7"
  }
 },
 "nbformat": 4,
 "nbformat_minor": 1
}
